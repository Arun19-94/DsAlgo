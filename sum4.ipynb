{
 "cells": [
  {
   "cell_type": "code",
   "execution_count": 26,
   "metadata": {},
   "outputs": [
    {
     "name": "stdout",
     "output_type": "stream",
     "text": [
      "[0, 0, 0, 0]\n",
      "[[0, 0, 0, 0]]\n"
     ]
    }
   ],
   "source": [
    "import sys\n",
    "nums = [0,0,0,0]\n",
    "\n",
    "target = 0\n",
    "closestSum = []\n",
    "nums.sort()\n",
    "for i in range(len(nums) -3):\n",
    "    for j in range(i+1,len(nums) -2):\n",
    "        left = j+1\n",
    "        right = len(nums) -1\n",
    "        while  (left < right):\n",
    "            sum_value =  nums[i] + nums[j] + nums[left] + nums[right]\n",
    "            if (sum_value == target ):\n",
    "                closestSum.append([nums[i] , nums[j] , nums[left] , nums[right]])\n",
    "            if (target > sum_value):\n",
    "                left +=1\n",
    "            else:\n",
    "                right -=1 \n",
    "output=[]\n",
    "for i in closestSum:\n",
    "    if i in output:\n",
    "        continue\n",
    "    else:\n",
    "        output.append(i)\n",
    "print(output) "
   ]
  },
  {
   "cell_type": "code",
   "execution_count": null,
   "metadata": {},
   "outputs": [],
   "source": []
  }
 ],
 "metadata": {
  "kernelspec": {
   "display_name": "Python 3",
   "language": "python",
   "name": "python3"
  },
  "language_info": {
   "codemirror_mode": {
    "name": "ipython",
    "version": 3
   },
   "file_extension": ".py",
   "mimetype": "text/x-python",
   "name": "python",
   "nbconvert_exporter": "python",
   "pygments_lexer": "ipython3",
   "version": "3.7.6"
  }
 },
 "nbformat": 4,
 "nbformat_minor": 4
}
