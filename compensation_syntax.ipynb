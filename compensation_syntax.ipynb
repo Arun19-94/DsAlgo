{
 "cells": [
  {
   "cell_type": "code",
   "execution_count": 20,
   "metadata": {},
   "outputs": [
    {
     "name": "stdout",
     "output_type": "stream",
     "text": [
      "[1, 4, 9, 16, 25, 36, 49, 64, 81, 100]\n",
      "12\n",
      "-12\n",
      "-10\n"
     ]
    }
   ],
   "source": [
    "squares = [k*k for k in range(1, 10+1)]\n",
    "print(squares)\n",
    "n = -12\n",
    "param = n if n > 0 else -n\n",
    "print(param)\n",
    "print(n)\n"
   ]
  },
  {
   "cell_type": "code",
   "execution_count": 23,
   "metadata": {},
   "outputs": [
    {
     "name": "stdout",
     "output_type": "stream",
     "text": [
      "7\n",
      "9\n",
      "5\n",
      "13\n",
      "6\n",
      "10\n"
     ]
    }
   ],
   "source": [
    "for x, y in [ (7, 2), (5, 8), (6, 4) ]:\n",
    "        print(x)\n",
    "        print(x.__add__(y))"
   ]
  },
  {
   "cell_type": "code",
   "execution_count": 28,
   "metadata": {},
   "outputs": [
    {
     "name": "stdout",
     "output_type": "stream",
     "text": [
      "[1, 5, 8]\n",
      "[1, 5, 6, 8]\n"
     ]
    }
   ],
   "source": [
    "color = [1,5,6,8]\n",
    "paint = list(color)\n",
    "paint.pop(2)\n",
    "print(paint)\n",
    "print(color)"
   ]
  },
  {
   "cell_type": "code",
   "execution_count": 40,
   "metadata": {},
   "outputs": [
    {
     "name": "stdout",
     "output_type": "stream",
     "text": [
      "[2, 7, 11, 15]\n",
      "-------------\n",
      "0\n",
      "1\n"
     ]
    }
   ],
   "source": [
    "number = {}\n",
    "nums = [2,7,11,15]\n",
    "target = 9\n",
    "print(nums)\n",
    "for i in range(0, len(nums)):\n",
    "    reqNum = target - nums[i]  \n",
    "#     print(number)\n",
    "#     print(reqNum)\n",
    "\n",
    "    if str(nums[i]) in number:\n",
    "        print(\"-------------\")\n",
    "        print(number[str(nums[i])]) \n",
    "        print(i)\n",
    "    else:\n",
    "        number[str(reqNum)] = i"
   ]
  },
  {
   "cell_type": "code",
   "execution_count": 78,
   "metadata": {},
   "outputs": [
    {
     "name": "stdout",
     "output_type": "stream",
     "text": [
      "3\n",
      "2\n",
      "1\n",
      "-\n",
      "-321\n"
     ]
    }
   ],
   "source": [
    "x = 1534236469\n",
    "z = \"\"\n",
    "# count, value in enumerate\n",
    "for count, value in enumerate(str(x)):\n",
    "    print(str(x)[len(str(x))-1-count])\n",
    "    if str(x)[len(str(x))-1-count] != \"-\":\n",
    "       z = z + str(x)[len(str(x))-1-count] \n",
    "    else:\n",
    "        z = \"-\"+z\n",
    "print(z)"
   ]
  },
  {
   "cell_type": "code",
   "execution_count": 102,
   "metadata": {},
   "outputs": [
    {
     "name": "stdout",
     "output_type": "stream",
     "text": [
      "9646324351\n"
     ]
    }
   ],
   "source": [
    "x = 1534236469\n",
    "quo = x if x >= 0 else -x\n",
    "z = 0\n",
    "while(quo != 0):\n",
    "    z = (z*10) + quo%10 \n",
    "    quo = quo//10\n",
    "z = z if x >= 0 else -z\n",
    "print(z)"
   ]
  },
  {
   "cell_type": "code",
   "execution_count": 105,
   "metadata": {},
   "outputs": [
    {
     "name": "stdout",
     "output_type": "stream",
     "text": [
      "321\n"
     ]
    },
    {
     "ename": "SyntaxError",
     "evalue": "'return' outside function (<ipython-input-105-bf00c5288a15>, line 10)",
     "output_type": "error",
     "traceback": [
      "\u001b[1;36m  File \u001b[1;32m\"<ipython-input-105-bf00c5288a15>\"\u001b[1;36m, line \u001b[1;32m10\u001b[0m\n\u001b[1;33m    return 0\u001b[0m\n\u001b[1;37m    ^\u001b[0m\n\u001b[1;31mSyntaxError\u001b[0m\u001b[1;31m:\u001b[0m 'return' outside function\n"
     ]
    }
   ],
   "source": [
    "neg = False\n",
    "x = 123\n",
    "if x < 0:\n",
    "    neg = True\n",
    "    x -= 2*x\n",
    "\n",
    "r = int(str(x)[::-1])\n",
    "print(r)\n",
    "if r < -2**31 or r > 2**31:\n",
    "    return 0\n",
    "\n",
    "if neg:\n",
    "    return r - 2*r\n",
    "else:\n",
    "    return r\n"
   ]
  }
 ],
 "metadata": {
  "kernelspec": {
   "display_name": "Python 3",
   "language": "python",
   "name": "python3"
  },
  "language_info": {
   "codemirror_mode": {
    "name": "ipython",
    "version": 3
   },
   "file_extension": ".py",
   "mimetype": "text/x-python",
   "name": "python",
   "nbconvert_exporter": "python",
   "pygments_lexer": "ipython3",
   "version": "3.7.6"
  }
 },
 "nbformat": 4,
 "nbformat_minor": 4
}
