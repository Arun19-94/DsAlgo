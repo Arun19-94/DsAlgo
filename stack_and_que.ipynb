{
 "cells": [
  {
   "cell_type": "code",
   "execution_count": 4,
   "metadata": {},
   "outputs": [
    {
     "ename": "SyntaxError",
     "evalue": "invalid character in identifier (<ipython-input-4-4c70505141f5>, line 7)",
     "output_type": "error",
     "traceback": [
      "\u001b[1;36m  File \u001b[1;32m\"<ipython-input-4-4c70505141f5>\"\u001b[1;36m, line \u001b[1;32m7\u001b[0m\n\u001b[1;33m    while j != −1:\u001b[0m\n\u001b[1;37m                ^\u001b[0m\n\u001b[1;31mSyntaxError\u001b[0m\u001b[1;31m:\u001b[0m invalid character in identifier\n"
     ]
    }
   ],
   "source": [
    "def is_matched_html(raw):\n",
    "    S = ArrayStack()\n",
    "    j = raw.find( '<' ) # find first ’<’ character (if any)\n",
    "    print('j')\n",
    "    print(j)\n",
    "\n",
    "    while j != −1:\n",
    "        k = raw.find( > , j+1) # find next ’>’ character\n",
    "        if k == −1:\n",
    "            return False # invalid tag\n",
    "        tag = raw[j+1:k] # strip away < >\n",
    "        if not tag.startswith( / ): # this is opening tag\n",
    "             S.push(tag)\n",
    "        else: # this is closing tag\n",
    "             if S.is empty( ):\n",
    "                return False # nothing to match with\n",
    "             if tag[1:] != S.pop():\n",
    "                return False # mismatched delimiter\n",
    "        j = raw.find( < , k+1) # find next ’<’ character (if any)\n",
    "    return S.is empty( )\n",
    "is_matched_html(<body>\n",
    "<center>\n",
    "<h1> The Little Boat </h1>\n",
    "</center>\n",
    "<p> The storm tossed the little\n",
    "boat like a cheap sneaker in an\n",
    "old washing machine. The three\n",
    "drunken fishermen were used to\n",
    "such treatment, of course, but\n",
    "not the tree salesman, who even as\n",
    "a stowaway now felt that he\n",
    "had overpaid for the voyage. </p>\n",
    "<ol>\n",
    "<li> Will the salesman die? </li>\n",
    "<li> What color is the boat? </li>\n",
    "<li> And what about Naomi? </li>\n",
    "</ol>\n",
    "</body>)"
   ]
  },
  {
   "cell_type": "code",
   "execution_count": null,
   "metadata": {},
   "outputs": [],
   "source": []
  }
 ],
 "metadata": {
  "kernelspec": {
   "display_name": "Python 3",
   "language": "python",
   "name": "python3"
  },
  "language_info": {
   "codemirror_mode": {
    "name": "ipython",
    "version": 3
   },
   "file_extension": ".py",
   "mimetype": "text/x-python",
   "name": "python",
   "nbconvert_exporter": "python",
   "pygments_lexer": "ipython3",
   "version": "3.7.6"
  }
 },
 "nbformat": 4,
 "nbformat_minor": 4
}
