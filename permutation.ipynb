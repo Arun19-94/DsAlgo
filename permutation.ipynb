{
 "cells": [
  {
   "cell_type": "code",
   "execution_count": 32,
   "metadata": {},
   "outputs": [
    {
     "name": "stdout",
     "output_type": "stream",
     "text": [
      "[[1, 2, 3], [1, 3, 2], [2, 1, 3], [2, 3, 1], [3, 1, 2], [3, 2, 1]]\n"
     ]
    }
   ],
   "source": [
    " num = [1,2,3]\n",
    "def permutation(nums):\n",
    "    if len(nums) == 0:\n",
    "        return []\n",
    "    if len(nums) == 1:\n",
    "        return [nums]\n",
    "    l = []\n",
    "    for i in range(len(nums)):\n",
    "        remLst = nums[:i] + nums[i+1:]\n",
    "        for p in permutation(remLst):\n",
    "            l.append([nums[i]] + p)\n",
    "    return l\n",
    "\n",
    "data = permutation(num)\n",
    "print(data)"
   ]
  },
  {
   "cell_type": "code",
   "execution_count": 21,
   "metadata": {},
   "outputs": [
    {
     "name": "stdout",
     "output_type": "stream",
     "text": [
      "yup\n",
      "ypu\n",
      "uyp\n",
      "upy\n",
      "puy\n",
      "pyu\n",
      "None\n"
     ]
    }
   ],
   "source": [
    "def get_permutation(string, i=0):\n",
    "\n",
    "    if i == len(string):   \t \n",
    "        print(\"\".join(string))\n",
    "\n",
    "    for j in range(i, len(string)):\n",
    "\n",
    "        words = [c for c in string]\n",
    "   \n",
    "        # swap\n",
    "        words[i], words[j] = words[j], words[i]\n",
    "   \t \n",
    "        get_permutation(words, i + 1)\n",
    "\n",
    "print(get_permutation('yup'))\n",
    "    "
   ]
  },
  {
   "cell_type": "code",
   "execution_count": 17,
   "metadata": {},
   "outputs": [
    {
     "name": "stdout",
     "output_type": "stream",
     "text": [
      "123\n",
      "132\n",
      "312\n",
      "321\n",
      "123\n",
      "132\n"
     ]
    }
   ],
   "source": [
    "def toString(List):\n",
    "    return ''.join(List)\n",
    " \n",
    "# Function to print permutations of string\n",
    "# This function takes three parameters:\n",
    "# 1. String\n",
    "# 2. Starting index of the string\n",
    "# 3. Ending index of the string.\n",
    "def permute(a, l, r):\n",
    "    if l==r:\n",
    "        print (toString(a))\n",
    "    else:\n",
    "        for i in range(l,r+1):\n",
    "            a[l], a[i] = a[i], a[l]\n",
    "            permute(a, l+1, r)\n",
    "            a[l], a[i] = a[i], a[l] # backtrack\n",
    " \n",
    "# Driver program to test the above function\n",
    "string = \"123\"\n",
    "n = len(string)\n",
    "a = list(string)\n",
    "permute(a, 0, n-1)"
   ]
  },
  {
   "cell_type": "code",
   "execution_count": 33,
   "metadata": {},
   "outputs": [
    {
     "name": "stdout",
     "output_type": "stream",
     "text": [
      "[1, 2, 3]\n",
      "[1, 2, 3]\n",
      "[1, 2, 3]\n",
      "[1, 2, 3]\n",
      "[1, 3, 2]\n",
      "[1, 3, 2]\n",
      "[2, 1, 3]\n",
      "[2, 1, 3]\n",
      "[2, 1, 3]\n",
      "[2, 3, 1]\n",
      "[2, 3, 1]\n",
      "[3, 2, 1]\n",
      "[3, 2, 1]\n",
      "[3, 2, 1]\n",
      "[3, 1, 2]\n",
      "[3, 1, 2]\n"
     ]
    }
   ],
   "source": [
    "def my_permute(string, i =0):\n",
    "    if (i == len(string)):\n",
    "        print(\"string----\")\n",
    "        print(string)\n",
    "#     print(string)\n",
    "    for j in range(i,len(string)):\n",
    "        string[j] , string[i] = string[i], string[j]\n",
    "        my_permute(string, i+1)\n",
    "        \n",
    "        string[j] , string[i] = string[i], string[j]\n",
    "my_permute([1,2,3],0)"
   ]
  }
 ],
 "metadata": {
  "kernelspec": {
   "display_name": "Python 3",
   "language": "python",
   "name": "python3"
  },
  "language_info": {
   "codemirror_mode": {
    "name": "ipython",
    "version": 3
   },
   "file_extension": ".py",
   "mimetype": "text/x-python",
   "name": "python",
   "nbconvert_exporter": "python",
   "pygments_lexer": "ipython3",
   "version": "3.7.6"
  }
 },
 "nbformat": 4,
 "nbformat_minor": 4
}
