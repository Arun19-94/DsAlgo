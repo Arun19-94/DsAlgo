{
 "cells": [
  {
   "cell_type": "code",
   "execution_count": 27,
   "metadata": {},
   "outputs": [
    {
     "name": "stdout",
     "output_type": "stream",
     "text": [
      "()()\n",
      "(())\n",
      "['()()', '(())']\n"
     ]
    }
   ],
   "source": [
    "result = []\n",
    "def printParenthesis(str, n):\n",
    "    if(n > 0):\n",
    "        _printParenthesis(str, 0,\n",
    "                          n, 0, 0);\n",
    "    return;\n",
    " \n",
    "def _printParenthesis(str, pos, n,\n",
    "                      open, close):\n",
    "#     print(str, pos, n,open, close)\n",
    "    if(close == n):\n",
    "        temp = \"\"\n",
    "        for i in str:\n",
    "#             print(i, end = \"\");\n",
    "            temp = temp+ i\n",
    "        print(temp)\n",
    "        result.append(temp);\n",
    "        return;\n",
    "    else:\n",
    "        if(open > close):\n",
    "            str[pos] = ')';\n",
    "            _printParenthesis(str, pos + 1, n,\n",
    "                              open, close + 1);\n",
    "        if(open < n):\n",
    "            str[pos] = '(';\n",
    "            _printParenthesis(str, pos + 1, n,\n",
    "                              open + 1, close);\n",
    " \n",
    "# Driver Code\n",
    "n = 2;\n",
    "str = [\"\"] * 2 * n;\n",
    "printParenthesis(str,0 n,0,0);\n",
    "print(result)\n"
   ]
  },
  {
   "cell_type": "code",
   "execution_count": null,
   "metadata": {},
   "outputs": [],
   "source": []
  }
 ],
 "metadata": {
  "kernelspec": {
   "display_name": "Python 3",
   "language": "python",
   "name": "python3"
  },
  "language_info": {
   "codemirror_mode": {
    "name": "ipython",
    "version": 3
   },
   "file_extension": ".py",
   "mimetype": "text/x-python",
   "name": "python",
   "nbconvert_exporter": "python",
   "pygments_lexer": "ipython3",
   "version": "3.7.6"
  }
 },
 "nbformat": 4,
 "nbformat_minor": 4
}
