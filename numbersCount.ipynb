{
 "cells": [
  {
   "cell_type": "code",
   "execution_count": 44,
   "metadata": {},
   "outputs": [
    {
     "name": "stdout",
     "output_type": "stream",
     "text": [
      "207375\n",
      "207375\n",
      "111\n",
      "2\n",
      "222\n",
      "20\n"
     ]
    },
    {
     "data": {
      "text/plain": [
       "6"
      ]
     },
     "execution_count": 44,
     "metadata": {},
     "output_type": "execute_result"
    }
   ],
   "source": [
    "def helper(data, k):\n",
    "    if (k == 0):\n",
    "        return 1\n",
    "    s = len(data) - k\n",
    "    if (data[s] == 0):\n",
    "        return 0\n",
    "    result = helper(data, k-1)\n",
    "    if (k>=2 and int (data[s: s+2])<27):\n",
    "        result=+ helper(data, k-2)\n",
    "    return result\n",
    "\n",
    "def test(data):\n",
    "    print(data)\n",
    "    ways = 0\n",
    "    for x in range(len(data)):\n",
    "        if(int(data[x]) != 0):\n",
    "            ways += 1 \n",
    "        \n",
    "        if (int(data[x]) != 0 and int(data[x:x+2])<27 and len(data[x:x+2]) ==2):\n",
    "            print('111')\n",
    "            print(data[x])\n",
    "           \n",
    "            print('222')\n",
    "            print(data[x:x+2])\n",
    "            ways += 1 \n",
    "    return ways\n",
    "def num_ways(data):\n",
    "#     return helper(data, len(data))\n",
    "    print(data)\n",
    "    return test(data)\n",
    "\n",
    "num_ways(\"207375\")"
   ]
  }
 ],
 "metadata": {
  "kernelspec": {
   "display_name": "Python 3",
   "language": "python",
   "name": "python3"
  },
  "language_info": {
   "codemirror_mode": {
    "name": "ipython",
    "version": 3
   },
   "file_extension": ".py",
   "mimetype": "text/x-python",
   "name": "python",
   "nbconvert_exporter": "python",
   "pygments_lexer": "ipython3",
   "version": "3.7.6"
  }
 },
 "nbformat": 4,
 "nbformat_minor": 4
}
