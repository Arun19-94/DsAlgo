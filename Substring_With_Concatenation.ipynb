{
 "cells": [
  {
   "cell_type": "code",
   "execution_count": 4,
   "metadata": {},
   "outputs": [
    {
     "name": "stdout",
     "output_type": "stream",
     "text": [
      "{'foo': 3, 'bar': 3}\n"
     ]
    }
   ],
   "source": [
    " def findSubstring(s, words):\n",
    "    dictionary = {}\n",
    "    current\n",
    "    for i in words:\n",
    "        dictionary[i] = len(i)\n",
    "    print(dictionary)\n",
    "#     for i in range(len(s)):\n",
    "        \n",
    "\n",
    "        \n",
    "findSubstring(\"barfoothefoobarman\", [\"foo\",\"bar\"])"
   ]
  },
  {
   "cell_type": "code",
   "execution_count": null,
   "metadata": {},
   "outputs": [],
   "source": []
  }
 ],
 "metadata": {
  "kernelspec": {
   "display_name": "Python 3",
   "language": "python",
   "name": "python3"
  },
  "language_info": {
   "codemirror_mode": {
    "name": "ipython",
    "version": 3
   },
   "file_extension": ".py",
   "mimetype": "text/x-python",
   "name": "python",
   "nbconvert_exporter": "python",
   "pygments_lexer": "ipython3",
   "version": "3.7.6"
  }
 },
 "nbformat": 4,
 "nbformat_minor": 4
}
