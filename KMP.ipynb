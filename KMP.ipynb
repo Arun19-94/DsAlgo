{
 "cells": [
  {
   "cell_type": "code",
   "execution_count": 40,
   "metadata": {},
   "outputs": [
    {
     "name": "stdout",
     "output_type": "stream",
     "text": [
      "pat_seq\n",
      "[0, 1, 2]\n",
      "1\n"
     ]
    }
   ],
   "source": [
    "def set_patten_seq(pat):\n",
    "    len_pat = len(pat)\n",
    "    pat_seq = [0]* len_pat\n",
    "    k = 0\n",
    "    l = 1\n",
    "    while(l < len_pat) :\n",
    "        \n",
    "        if pat[k] == pat[l]:\n",
    "            pat_seq[l] = k +1\n",
    "            k+=1\n",
    "            l+=1\n",
    "        elif(k >  0):\n",
    "            k = pat_seq[k-1]\n",
    "        else:\n",
    "            l+=1\n",
    "#             k+=1\n",
    "    print(\"pat_seq\")\n",
    "    print(pat_seq)\n",
    "    return pat_seq\n",
    "\n",
    "def KMP(txt,pat):\n",
    "    len_pat = len(pat)\n",
    "    len_txt = len(txt)\n",
    "    pat_seq = set_patten_seq(pat)\n",
    "    t = 0\n",
    "    p = 0\n",
    "    while (t<len_txt):\n",
    "        \n",
    "        if txt[t] == pat[p]:\n",
    "            if p == len_pat-1:\n",
    "                return t-len_pat+1\n",
    "            else:\n",
    "                t+=1\n",
    "                p+=1\n",
    "        elif(p >0):\n",
    "            p = pat_seq[p-1]\n",
    "        else:\n",
    "            t+=1\n",
    "\n",
    "x = KMP(\"BAAAC\", \"AAA\")\n",
    "print(x)\n"
   ]
  },
  {
   "cell_type": "code",
   "execution_count": null,
   "metadata": {},
   "outputs": [],
   "source": []
  },
  {
   "cell_type": "code",
   "execution_count": null,
   "metadata": {},
   "outputs": [],
   "source": []
  }
 ],
 "metadata": {
  "kernelspec": {
   "display_name": "Python 3",
   "language": "python",
   "name": "python3"
  },
  "language_info": {
   "codemirror_mode": {
    "name": "ipython",
    "version": 3
   },
   "file_extension": ".py",
   "mimetype": "text/x-python",
   "name": "python",
   "nbconvert_exporter": "python",
   "pygments_lexer": "ipython3",
   "version": "3.7.6"
  }
 },
 "nbformat": 4,
 "nbformat_minor": 4
}
