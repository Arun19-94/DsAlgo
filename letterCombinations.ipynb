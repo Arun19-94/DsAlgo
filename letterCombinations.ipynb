{
 "cells": [
  {
   "cell_type": "code",
   "execution_count": 6,
   "metadata": {},
   "outputs": [
    {
     "name": "stdout",
     "output_type": "stream",
     "text": [
      "a\n",
      "ad\n",
      "ae\n",
      "af\n",
      "b\n",
      "bd\n",
      "be\n",
      "bf\n",
      "c\n",
      "cd\n",
      "ce\n",
      "cf\n",
      "['ad', 'ae', 'af', 'bd', 'be', 'bf', 'cd', 'ce', 'cf']\n"
     ]
    }
   ],
   "source": [
    " digitarray = {\n",
    "            \"2\" : \"abc\",\n",
    "            \"3\" : \"def\",\n",
    "            \"4\" : \"ghi\",\n",
    "            \"5\" : \"jkl\",\n",
    "            \"6\" : \"mno\",\n",
    "            \"7\" : \"pqrs\",\n",
    "            \"8\" : \"tuv\",\n",
    "            \"9\" : \"wxyz\"\n",
    "        }\n",
    "digits = \"23\"\n",
    "result = []\n",
    "def recurr(i,value):\n",
    "    if len(value) == len(digits):\n",
    "        result.append(value)\n",
    "        return\n",
    "    for rec in digitarray[digits[i]]:\n",
    "        print(value+rec)\n",
    "        recurr(i+1,value+rec )\n",
    "recurr(0,\"\")\n",
    "print(result)"
   ]
  },
  {
   "cell_type": "code",
   "execution_count": null,
   "metadata": {},
   "outputs": [],
   "source": []
  }
 ],
 "metadata": {
  "kernelspec": {
   "display_name": "Python 3",
   "language": "python",
   "name": "python3"
  },
  "language_info": {
   "codemirror_mode": {
    "name": "ipython",
    "version": 3
   },
   "file_extension": ".py",
   "mimetype": "text/x-python",
   "name": "python",
   "nbconvert_exporter": "python",
   "pygments_lexer": "ipython3",
   "version": "3.7.6"
  }
 },
 "nbformat": 4,
 "nbformat_minor": 4
}
