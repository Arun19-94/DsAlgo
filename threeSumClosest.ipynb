{
 "cells": [
  {
   "cell_type": "code",
   "execution_count": 16,
   "metadata": {},
   "outputs": [
    {
     "name": "stdout",
     "output_type": "stream",
     "text": [
      "9223372036854775807\n",
      "2\n"
     ]
    }
   ],
   "source": [
    "import sys\n",
    "def threeSumClosest(nums, target):\n",
    "    closestSum = sys.maxsize\n",
    "    nums.sort()\n",
    "    print(closestSum)\n",
    "    for i in range( len(nums)-2):\n",
    "        left = i + 1\n",
    "        right = len(nums) -1\n",
    "        while  (left < right):\n",
    "            sum_value =  nums[i] + nums[left] + nums[right]\n",
    "            if (abs(target - sum_value) < abs(target - closestSum)):\n",
    "                closestSum = sum_value\n",
    "            if (target > sum_value):\n",
    "                left +=1\n",
    "            else:\n",
    "                right -=1 \n",
    "    return closestSum\n",
    "\n",
    "            \n",
    "print(threeSumClosest([-1,2,1,-4], 1))\n",
    "    \n",
    "    "
   ]
  },
  {
   "cell_type": "code",
   "execution_count": null,
   "metadata": {},
   "outputs": [],
   "source": []
  }
 ],
 "metadata": {
  "kernelspec": {
   "display_name": "Python 3",
   "language": "python",
   "name": "python3"
  },
  "language_info": {
   "codemirror_mode": {
    "name": "ipython",
    "version": 3
   },
   "file_extension": ".py",
   "mimetype": "text/x-python",
   "name": "python",
   "nbconvert_exporter": "python",
   "pygments_lexer": "ipython3",
   "version": "3.7.6"
  }
 },
 "nbformat": 4,
 "nbformat_minor": 4
}
