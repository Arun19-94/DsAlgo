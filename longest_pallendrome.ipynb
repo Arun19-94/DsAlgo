{
 "cells": [
  {
   "cell_type": "code",
   "execution_count": 31,
   "metadata": {},
   "outputs": [
    {
     "name": "stdout",
     "output_type": "stream",
     "text": [
      "6\n",
      "fdsssa\n",
      "xa\n",
      "3\n"
     ]
    }
   ],
   "source": [
    "max_length = 0\n",
    "def longest_palindrome(string):\n",
    "    print(len(string))  \n",
    "    print(string[::-1])\n",
    "    print(\"x\"+(string[0:1]))\n",
    "    recursion_max(string[0:1],string[1:])\n",
    "    return max_length\n",
    "\n",
    "def recursion_max(value, string):\n",
    "    global max_length\n",
    "    if len(string) == 0:\n",
    "        return\n",
    "    temp = value + string[0:1]\n",
    "    if temp == temp[::-1]:\n",
    "        max_length = max(max_length, len(temp))\n",
    "    recursion_max(temp,string[1:])    \n",
    "    recursion_max(string[0:1],string[1:])\n",
    "\n",
    "longest_palindrome(\"asssdf\")\n",
    "\n",
    "    \n",
    "    \n",
    "    "
   ]
  },
  {
   "cell_type": "code",
   "execution_count": 61,
   "metadata": {},
   "outputs": [
    {
     "data": {
      "text/plain": [
       "'kkkk'"
      ]
     },
     "execution_count": 61,
     "metadata": {},
     "output_type": "execute_result"
    }
   ],
   "source": [
    "s= \"asdfghjkkkk\"\n",
    "def check(s, sz):\n",
    "    for k in range(len(s) - sz + 1):\n",
    "        i, j = k, k + sz - 1\n",
    "\n",
    "        while i < j:\n",
    "            if s[i] != s[j]:\n",
    "                break\n",
    "\n",
    "            i += 1\n",
    "            j -= 1\n",
    "\n",
    "        if i >= j:\n",
    "            return s[k:k + sz]\n",
    "\n",
    "    return ''\n",
    "\n",
    "def bs(cn, is_odd):\n",
    "    i = 0\n",
    "    j = cn + 1\n",
    "    mx = ''\n",
    "    while i < j - 1:\n",
    "        m = i + (j - i) // 2\n",
    "        sz = m * 2 - is_odd\n",
    "        res = check(s, sz)\n",
    "        if res:\n",
    "            mx = res\n",
    "            i = m\n",
    "        else:\n",
    "            j = m\n",
    "\n",
    "    return mx\n",
    "\n",
    "def main():\n",
    "    \n",
    "    sz = len(s)\n",
    "    mx1, mx2 = bs(sz // 2, 0), bs(sz - sz // 2, 1)\n",
    "    return mx1 if len(mx1) > len(mx2) else mx2\n",
    "main()"
   ]
  },
  {
   "cell_type": "code",
   "execution_count": 59,
   "metadata": {},
   "outputs": [
    {
     "name": "stdout",
     "output_type": "stream",
     "text": [
      "max_length\n",
      "\n"
     ]
    }
   ],
   "source": [
    "max_length = \"\"\n",
    "stringIndex = {}\n",
    "def longest_palindrome(string):\n",
    "    global max_length \n",
    "    for i in range(0,len(string)):\n",
    "        if string[i:i+1] not in stringIndex:\n",
    "            stringIndex[string[i:i+1]] = []\n",
    "        else:\n",
    "            for index in stringIndex[string[i:i+1]]:\n",
    "                temp = string[index: i+1]\n",
    "                if temp == temp[::-1] and len(max_length) < len(temp):\n",
    "                    max_length = temp\n",
    "        stringIndex[string[i:i+1]].append(i)\n",
    "    print(\"max_length\")\n",
    "    print(max_length)\n",
    "longest_palindrome(\"af\")"
   ]
  }
 ],
 "metadata": {
  "kernelspec": {
   "display_name": "Python 3",
   "language": "python",
   "name": "python3"
  },
  "language_info": {
   "codemirror_mode": {
    "name": "ipython",
    "version": 3
   },
   "file_extension": ".py",
   "mimetype": "text/x-python",
   "name": "python",
   "nbconvert_exporter": "python",
   "pygments_lexer": "ipython3",
   "version": "3.7.6"
  }
 },
 "nbformat": 4,
 "nbformat_minor": 4
}
