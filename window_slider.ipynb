{
 "cells": [
  {
   "cell_type": "code",
   "execution_count": 35,
   "metadata": {},
   "outputs": [
    {
     "name": "stdout",
     "output_type": "stream",
     "text": [
      "5\n"
     ]
    }
   ],
   "source": [
    "chars = {}\n",
    "window_start = 0\n",
    "max_length = 0\n",
    "s = \"abassscddbbedbca\"\n",
    "for window_end in range(len(s)):\n",
    "    right = s[window_end]\n",
    "    if right not in chars:\n",
    "        chars[right] = 0\n",
    "    chars[right] += 1\n",
    "\n",
    "    while chars[right] > 1:\n",
    "        left = s[window_start]\n",
    "        chars[left] -= 1\n",
    "        if chars[left] == 0:\n",
    "            del chars[left]\n",
    "        window_start += 1\n",
    "\n",
    "    max_length = max(max_length, window_end - window_start + 1)\n",
    "            \n",
    "print(max_length)"
   ]
  },
  {
   "cell_type": "code",
   "execution_count": 26,
   "metadata": {},
   "outputs": [
    {
     "name": "stdout",
     "output_type": "stream",
     "text": [
      "set()\n",
      "set()\n",
      "a\n",
      "set()\n",
      "------------\n",
      "{'a'}\n",
      "b\n",
      "{'a'}\n",
      "------------\n",
      "{'b', 'a'}\n",
      "c\n",
      "{'b', 'a'}\n",
      "------------\n",
      "{'c', 'b', 'a'}\n",
      "b\n",
      "^^^^^^^^^^^ b\n",
      "^^^^^^^^^^^ b\n",
      "{'c'}\n",
      "------------\n",
      "{'c', 'b'}\n",
      "c\n",
      "^^^^^^^^^^^ c\n",
      "{'b'}\n",
      "------------\n",
      "{'c', 'b'}\n",
      "a\n",
      "{'c', 'b'}\n",
      "------------\n",
      "3\n"
     ]
    }
   ],
   "source": [
    "max_size,right,freq = 0,0,set()\n",
    "string = \"abcbca\"\n",
    "print(freq)\n",
    "for left, char in enumerate(string):\n",
    "    print(freq)\n",
    "    print(char)\n",
    "    while char in freq:\n",
    "        print(\"^^^^^^^^^^^ \" + char)\n",
    "        freq.remove(string[right]); \n",
    "        right+=1\n",
    "    print(freq)\n",
    "    print(\"------------\")\n",
    "    freq.add(char)\n",
    "    max_size = max(max_size, len(freq))\n",
    "print (max_size)\n"
   ]
  }
 ],
 "metadata": {
  "kernelspec": {
   "display_name": "Python 3",
   "language": "python",
   "name": "python3"
  },
  "language_info": {
   "codemirror_mode": {
    "name": "ipython",
    "version": 3
   },
   "file_extension": ".py",
   "mimetype": "text/x-python",
   "name": "python",
   "nbconvert_exporter": "python",
   "pygments_lexer": "ipython3",
   "version": "3.7.6"
  }
 },
 "nbformat": 4,
 "nbformat_minor": 4
}
