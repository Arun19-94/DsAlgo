{
 "cells": [
  {
   "cell_type": "code",
   "execution_count": 4,
   "metadata": {},
   "outputs": [
    {
     "data": {
      "text/plain": [
       "[4, 8, 10, 15, 23, 32]"
      ]
     },
     "execution_count": 4,
     "metadata": {},
     "output_type": "execute_result"
    }
   ],
   "source": [
    "def insertionSort(num):\n",
    "    for i in range(1, len(num)):\n",
    "        j = i\n",
    "        while j > 0 and num[j-1] > num[j]:\n",
    "            swap(num,j,j-1)\n",
    "            j = j-1\n",
    "    return num\n",
    "def swap(num,i, j):\n",
    "    temp = num[i]\n",
    "    num[i] = num[j]\n",
    "    num [j] = temp\n",
    "insertionSort([10,8,15,4,23,32])"
   ]
  },
  {
   "cell_type": "code",
   "execution_count": 45,
   "metadata": {},
   "outputs": [
    {
     "name": "stdout",
     "output_type": "stream",
     "text": [
      "2\n",
      "3\n",
      "1\n",
      "1\n",
      "4\n",
      "4\n",
      "num\n",
      "[4, 8, 10, 15, 23, 32]\n"
     ]
    }
   ],
   "source": [
    "def quickSort(num, low, high):\n",
    "    if (low >= high):\n",
    "        return\n",
    "    pivot = partition(num, low, high)\n",
    "    print(pivot)\n",
    "#     return\n",
    "    quickSort(num, low, pivot-1)\n",
    "    quickSort(num,pivot+1, high)\n",
    "\n",
    "def partition(num, low, high):\n",
    "    pivot = (low + high) //2\n",
    "    print(pivot)\n",
    "    swap(num,pivot, high)\n",
    "    i = low \n",
    "    for j in range(low, high):\n",
    "        if (num[j] <= num[high]):\n",
    "            swap(num, i,j)\n",
    "            i=i+1\n",
    "    swap(num,i, high)\n",
    "    return i\n",
    "def swap(num,i, j):\n",
    "    temp = num[i]\n",
    "    num[i] = num[j]\n",
    "    num [j] = temp\n",
    "# num = [1,2,3]\n",
    "num =[10,8,15,4,23,32]\n",
    "quickSort(num,0, len(num)-1)\n",
    "print('num')\n",
    "print(num)\n",
    "\n",
    "        "
   ]
  },
  {
   "cell_type": "code",
   "execution_count": 39,
   "metadata": {},
   "outputs": [
    {
     "name": "stdout",
     "output_type": "stream",
     "text": [
      "[4, 8, 10, 15, 23, 32]\n"
     ]
    }
   ],
   "source": [
    "\n",
    "def quick_sort(nums,low,high):\n",
    "    \n",
    "\tif low >= high:\n",
    "\t\treturn\n",
    "\t\t\n",
    "\tpivot_index = partition(nums,low,high)\n",
    "\tquick_sort(nums,low, pivot_index-1)\n",
    "\tquick_sort(nums, pivot_index+1,high)\n",
    "\t\n",
    "\t\n",
    "def partition(nums,low,high):\n",
    "\n",
    "\tpivot_index = (low+high)//2\n",
    "\tswap(nums,pivot_index,high)\n",
    "\t\n",
    "\ti = low\n",
    "\t\n",
    "\tfor j in range(low,high,1):\n",
    "\t\tif nums[j] <= nums[high]:\n",
    "\t\t\tswap(nums,i,j)\n",
    "\t\t\ti = i + 1\n",
    "\t\t\t\n",
    "\tswap(nums,i,high)\n",
    "\t\n",
    "\treturn i\n",
    "\t\n",
    "def swap(nums,i,j):\n",
    "\ttemp = nums[i]\n",
    "\tnums[i] = nums[j]\n",
    "\tnums[j] = temp\n",
    "\t\n",
    "\t\n",
    "if __name__ == \"__main__\":\n",
    "   \n",
    "   nums = [10,8,15,4,23,32]\n",
    "   quick_sort(nums,0,len(nums)-1)\n",
    "   print(nums)\n",
    "  "
   ]
  }
 ],
 "metadata": {
  "kernelspec": {
   "display_name": "Python 3",
   "language": "python",
   "name": "python3"
  },
  "language_info": {
   "codemirror_mode": {
    "name": "ipython",
    "version": 3
   },
   "file_extension": ".py",
   "mimetype": "text/x-python",
   "name": "python",
   "nbconvert_exporter": "python",
   "pygments_lexer": "ipython3",
   "version": "3.7.6"
  }
 },
 "nbformat": 4,
 "nbformat_minor": 4
}
