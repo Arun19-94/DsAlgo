{
 "cells": [
  {
   "cell_type": "code",
   "execution_count": 12,
   "metadata": {},
   "outputs": [
    {
     "name": "stdout",
     "output_type": "stream",
     "text": [
      "0\n",
      "1\n",
      "2\n",
      "3\n",
      "4\n",
      "[99, 98, 97, 96, 95]\n",
      "120\n"
     ]
    }
   ],
   "source": [
    "#[1, 2, 3, 4, 5] -> [120, 60, 40, 30, 24] with out division\n",
    "\n",
    "def multiplication(datas):\n",
    "    out=[]\n",
    "    prod = 1\n",
    "    for idx,data in enumerate(datas):\n",
    "        print(idx)\n",
    "        prod = prod * int (data)\n",
    "        out.append(100-data)\n",
    "    \n",
    "    print(out)\n",
    "    print(prod)\n",
    "multiplication([1, 2, 3, 4, 5] )    "
   ]
  }
 ],
 "metadata": {
  "kernelspec": {
   "display_name": "Python 3",
   "language": "python",
   "name": "python3"
  },
  "language_info": {
   "codemirror_mode": {
    "name": "ipython",
    "version": 3
   },
   "file_extension": ".py",
   "mimetype": "text/x-python",
   "name": "python",
   "nbconvert_exporter": "python",
   "pygments_lexer": "ipython3",
   "version": "3.7.6"
  }
 },
 "nbformat": 4,
 "nbformat_minor": 4
}
