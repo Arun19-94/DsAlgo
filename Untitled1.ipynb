{
 "cells": [
  {
   "cell_type": "code",
   "execution_count": 31,
   "metadata": {},
   "outputs": [
    {
     "name": "stdout",
     "output_type": "stream",
     "text": [
      "[-1, 0, 1]\n",
      "[-1, -1, 2]\n",
      "[-1, 0, 1]\n",
      "[[-1, 0, 1], [-1, 2, -1]]\n"
     ]
    }
   ],
   "source": [
    "nums = [-1,0,1,2,-1,-4]\n",
    "List = []\n",
    "check_dict = {}\n",
    "for i in range(0,len(nums)-2):\n",
    "    for j in range(i+1, len(nums)-1):\n",
    "        for k in range(j+1, len(nums)):\n",
    "            value = nums[i] + nums[j] + nums[k]\n",
    "            d = [ nums[i] , nums[j] , nums[k]]\n",
    "            if value == 0:\n",
    "                d.sort()\n",
    "                print(str(d))\n",
    "                if str(d) not in check_dict:\n",
    "                    check_dict[str(d)] = str(d)\n",
    "                    List.append([ nums[i] , nums[j] , nums[k]])\n",
    "return(List)\n",
    "            "
   ]
  },
  {
   "cell_type": "code",
   "execution_count": 33,
   "metadata": {},
   "outputs": [
    {
     "name": "stdout",
     "output_type": "stream",
     "text": [
      "[[-1, -1, 2], [-1, 0, 1]]\n"
     ]
    }
   ],
   "source": [
    "nums = [-1,0,1,2,-1,-4]\n",
    "n = len(nums)\n",
    "nums.sort()\n",
    "result = []\n",
    "def findTriplets(index):\n",
    "    target = -nums[index]\n",
    "    i, j = index + 1, n - 1\n",
    "    first_val = nums[0] - 1\n",
    "    while i < j:\n",
    "        sum = nums[i] + nums[j]\n",
    "        if sum == target and nums[i] != first_val:\n",
    "            first_val = nums[i]\n",
    "            result.append([nums[index], nums[i], nums[j]])\n",
    "        if sum <= target:\n",
    "            i += 1\n",
    "        else:\n",
    "            j -= 1\n",
    "\n",
    "for i in range(n - 2):\n",
    "    if i == 0 or nums[i] != nums[i - 1]:\n",
    "        findTriplets(i)\n",
    "print(result)"
   ]
  },
  {
   "cell_type": "code",
   "execution_count": null,
   "metadata": {},
   "outputs": [],
   "source": []
  }
 ],
 "metadata": {
  "kernelspec": {
   "display_name": "Python 3",
   "language": "python",
   "name": "python3"
  },
  "language_info": {
   "codemirror_mode": {
    "name": "ipython",
    "version": 3
   },
   "file_extension": ".py",
   "mimetype": "text/x-python",
   "name": "python",
   "nbconvert_exporter": "python",
   "pygments_lexer": "ipython3",
   "version": "3.7.6"
  }
 },
 "nbformat": 4,
 "nbformat_minor": 4
}
