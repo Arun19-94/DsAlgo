{
 "cells": [
  {
   "cell_type": "code",
   "execution_count": 25,
   "metadata": {},
   "outputs": [
    {
     "name": "stdout",
     "output_type": "stream",
     "text": [
      "0\n",
      "--------------------\n",
      "1\n",
      "--------------------\n",
      "2\n",
      "--------------------\n",
      "3\n",
      "--------------------\n",
      "0\n",
      "--------------------\n",
      "4\n",
      "--------------------\n",
      "0\n",
      "--------------------\n",
      "1\n",
      "--------------------\n",
      "1\n",
      "--------------------\n",
      "1\n",
      "--------------------\n",
      "2\n",
      "--------------------\n",
      "1\n",
      "--------------------\n",
      "2\n",
      "--------------------\n",
      "3\n",
      "--------------------\n",
      "2\n",
      "--------------------\n",
      "0\n",
      "--------------------\n",
      "3\n",
      "--------------------\n",
      "4\n",
      "--------------------\n",
      "3\n",
      "--------------------\n",
      "1\n",
      "--------------------\n",
      "4\n",
      "--------------------\n",
      "1\n",
      "--------------------\n",
      "1\n",
      "--------------------\n",
      "2\n",
      "--------------------\n",
      "1\n",
      "--------------------\n",
      "1\n",
      "--------------------\n",
      "2\n",
      "--------------------\n",
      "[0, 1, 2, 3, 4, 1, 1, 2, 3, 1, 2, 2]\n",
      "Minimum coins required is  2\n"
     ]
    }
   ],
   "source": [
    "import sys\n",
    " \n",
    "def minCoins(coins, m, V):\n",
    "     \n",
    "    table = [0 for i in range(V + 1)]\n",
    "\n",
    "    table[0] = 0\n",
    "    for i in range(1, V + 1):\n",
    "        table[i] = sys.maxsize\n",
    "    for i in range(1, V + 1):\n",
    "        for j in range(m):\n",
    "            if (coins[j] <= i):\n",
    "            \n",
    "                sub_res = table[i - coins[j]]\n",
    "                print(sub_res)\n",
    "                print(\"--------------------\")\n",
    "                if (sub_res != sys.maxsize and\n",
    "                    sub_res + 1 < table[i]):\n",
    "                    table[i] = sub_res + 1\n",
    "    if table[V] == sys.maxsize:\n",
    "        return -1\n",
    "    print(table)\n",
    "    return table[V]\n",
    "if __name__ == \"__main__\":\n",
    " \n",
    "    coins = [9, 6, 5, 1]\n",
    "    m = len(coins)\n",
    "    V = 11\n",
    "    print(\"Minimum coins required is \",\n",
    "                 minCoins(coins, m, V))"
   ]
  },
  {
   "cell_type": "code",
   "execution_count": 48,
   "metadata": {},
   "outputs": [
    {
     "name": "stdout",
     "output_type": "stream",
     "text": [
      "4\n"
     ]
    }
   ],
   "source": [
    "def minCoins(coins, m, V):\n",
    "    table = [V+10 for i in range(V + 1)]\n",
    "    table[0] = 0\n",
    "    for i in range(1, V + 1):\n",
    "        for j in range(m):\n",
    "            sub_res = table[i - coins[j]]\n",
    "            if (sub_res+1 < table[i] ):\n",
    "                table[i] = sub_res+1\n",
    "    return table[V]\n",
    "coins = [9, 6, 5, 10]\n",
    "m = len(coins)\n",
    "V = 31\n",
    "d = minCoins(coins, m, V)\n",
    "print(d)"
   ]
  },
  {
   "cell_type": "code",
   "execution_count": 57,
   "metadata": {},
   "outputs": [
    {
     "name": "stdout",
     "output_type": "stream",
     "text": [
      "-------------\n",
      "-------------\n",
      "-------------\n",
      "-------------\n",
      "-------------\n",
      "-------------\n",
      "-------------\n",
      "-------------\n",
      "-------------\n",
      "-------------\n",
      "-------------\n",
      "-------------\n",
      "-------------\n",
      "-------------\n",
      "-------------\n",
      "-------------\n",
      "-------------\n",
      "5\n"
     ]
    }
   ],
   "source": [
    "def count(S, m, n ):\n",
    "    if (n == 0):\n",
    "        return 1\n",
    " \n",
    "    if (n < 0):\n",
    "        return 0;\n",
    " \n",
    "    if (m <=0 and n >= 1):\n",
    "        return 0\n",
    "    print('-------------')\n",
    "    return count( S, m - 1, n ) + count( S, m, n-S[m-1] );\n",
    " \n",
    "arr = [1, 2, 3]\n",
    "m = len(arr)\n",
    "print(count(arr, m, 5))"
   ]
  },
  {
   "cell_type": "code",
   "execution_count": 53,
   "metadata": {},
   "outputs": [
    {
     "name": "stdout",
     "output_type": "stream",
     "text": [
      "[1, 1, 2, 3, 4, 5, 7, 8, 10, 12, 14]\n",
      "14\n"
     ]
    }
   ],
   "source": [
    "def count(s, m, n):\n",
    "    table = [0 for k in range(n+1)]\n",
    "    table[0] = 1\n",
    "    for i in range(0,m):\n",
    "        for j in range(s[i], n+1):\n",
    "            table[j] += table[j-s[i]]\n",
    "    print(table)\n",
    "    return table[n]\n",
    "        \n",
    "\n",
    "\n",
    "arr = [ 1,2, 3]\n",
    "m = len(arr)\n",
    "n = 10\n",
    "x = count(arr, m, n)\n",
    "print (x)\n",
    "    "
   ]
  },
  {
   "cell_type": "code",
   "execution_count": 55,
   "metadata": {},
   "outputs": [
    {
     "name": "stdout",
     "output_type": "stream",
     "text": [
      "5\n"
     ]
    }
   ],
   "source": [
    "#  Stair case problem\n",
    "def num_ways(num):\n",
    "    if num == 1 or num == 0:\n",
    "        return 1\n",
    "    \n",
    "    return num_ways(num-1) + num_ways(num-2)\n",
    "print(num_ways(4))\n"
   ]
  },
  {
   "cell_type": "code",
   "execution_count": null,
   "metadata": {},
   "outputs": [],
   "source": [
    "x = "
   ]
  }
 ],
 "metadata": {
  "kernelspec": {
   "display_name": "Python 3",
   "language": "python",
   "name": "python3"
  },
  "language_info": {
   "codemirror_mode": {
    "name": "ipython",
    "version": 3
   },
   "file_extension": ".py",
   "mimetype": "text/x-python",
   "name": "python",
   "nbconvert_exporter": "python",
   "pygments_lexer": "ipython3",
   "version": "3.7.6"
  }
 },
 "nbformat": 4,
 "nbformat_minor": 4
}
