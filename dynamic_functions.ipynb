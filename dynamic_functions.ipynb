{
 "cells": [
  {
   "cell_type": "code",
   "execution_count": 14,
   "metadata": {},
   "outputs": [
    {
     "ename": "AttributeError",
     "evalue": "'function' object has no attribute 'co_nlocals'",
     "output_type": "error",
     "traceback": [
      "\u001b[1;31m---------------------------------------------------------------------------\u001b[0m",
      "\u001b[1;31mAttributeError\u001b[0m                            Traceback (most recent call last)",
      "\u001b[1;32m<ipython-input-14-f58b558778f3>\u001b[0m in \u001b[0;36m<module>\u001b[1;34m\u001b[0m\n\u001b[0;32m     19\u001b[0m     \u001b[1;32mreturn\u001b[0m \u001b[0mtypes\u001b[0m\u001b[1;33m.\u001b[0m\u001b[0mFunctionType\u001b[0m\u001b[1;33m(\u001b[0m\u001b[0my_code\u001b[0m\u001b[1;33m,\u001b[0m \u001b[0my\u001b[0m\u001b[1;33m.\u001b[0m\u001b[0mfunc_globals\u001b[0m\u001b[1;33m,\u001b[0m \u001b[0mname\u001b[0m\u001b[1;33m)\u001b[0m\u001b[1;33m\u001b[0m\u001b[1;33m\u001b[0m\u001b[0m\n\u001b[0;32m     20\u001b[0m \u001b[1;33m\u001b[0m\u001b[0m\n\u001b[1;32m---> 21\u001b[1;33m \u001b[0mmyfunc\u001b[0m \u001b[1;33m=\u001b[0m \u001b[0mcreate_function\u001b[0m\u001b[1;33m(\u001b[0m\u001b[1;34m'myfunc'\u001b[0m\u001b[1;33m,\u001b[0m \u001b[1;36m3\u001b[0m\u001b[1;33m)\u001b[0m\u001b[1;33m\u001b[0m\u001b[1;33m\u001b[0m\u001b[0m\n\u001b[0m\u001b[0;32m     22\u001b[0m \u001b[1;33m\u001b[0m\u001b[0m\n\u001b[0;32m     23\u001b[0m \u001b[0mprint\u001b[0m \u001b[1;33m(\u001b[0m\u001b[0mrepr\u001b[0m\u001b[1;33m(\u001b[0m\u001b[0mmyfunc\u001b[0m\u001b[1;33m)\u001b[0m\u001b[1;33m)\u001b[0m\u001b[1;33m\u001b[0m\u001b[1;33m\u001b[0m\u001b[0m\n",
      "\u001b[1;32m<ipython-input-14-f58b558778f3>\u001b[0m in \u001b[0;36mcreate_function\u001b[1;34m(name, args)\u001b[0m\n\u001b[0;32m      5\u001b[0m \u001b[1;33m\u001b[0m\u001b[0m\n\u001b[0;32m      6\u001b[0m     y_code = types.CodeType(args,\n\u001b[1;32m----> 7\u001b[1;33m                             \u001b[0my\u001b[0m\u001b[1;33m.\u001b[0m\u001b[0mco_nlocals\u001b[0m\u001b[1;33m,\u001b[0m\u001b[1;33m\u001b[0m\u001b[1;33m\u001b[0m\u001b[0m\n\u001b[0m\u001b[0;32m      8\u001b[0m                             \u001b[0my\u001b[0m\u001b[1;33m.\u001b[0m\u001b[0mfunc_code\u001b[0m\u001b[1;33m.\u001b[0m\u001b[0mco_stacksize\u001b[0m\u001b[1;33m,\u001b[0m\u001b[1;33m\u001b[0m\u001b[1;33m\u001b[0m\u001b[0m\n\u001b[0;32m      9\u001b[0m                             \u001b[0my\u001b[0m\u001b[1;33m.\u001b[0m\u001b[0mfunc_code\u001b[0m\u001b[1;33m.\u001b[0m\u001b[0mco_flags\u001b[0m\u001b[1;33m,\u001b[0m\u001b[1;33m\u001b[0m\u001b[1;33m\u001b[0m\u001b[0m\n",
      "\u001b[1;31mAttributeError\u001b[0m: 'function' object has no attribute 'co_nlocals'"
     ]
    }
   ],
   "source": [
    "import types\n",
    "\n",
    "def create_function(name, args):\n",
    "    def y(): pass\n",
    "\n",
    "    y_code = types.CodeType(args,\n",
    "                            y.co_nlocals,\n",
    "                            y.func_code.co_stacksize,\n",
    "                            y.func_code.co_flags,\n",
    "                            y.func_code.co_code,\n",
    "                            y.func_code.co_consts,\n",
    "                            y.func_code.co_names,\n",
    "                            y.func_code.co_varnames,\n",
    "                            y.func_code.co_filename,\n",
    "                            name,\n",
    "                            y.func_code.co_firstlineno,\n",
    "                            y.func_code.co_lnotab)\n",
    "\n",
    "    return types.FunctionType(y_code, y.func_globals, name)\n",
    "\n",
    "myfunc = create_function('myfunc', 3)\n",
    "\n",
    "print (repr(myfunc))\n",
    "print (myfunc.func_name)\n",
    "print (myfunc.func_code.co_argcount)\n",
    "\n",
    "myfunc(1,2,3,4)"
   ]
  },
  {
   "cell_type": "code",
   "execution_count": 19,
   "metadata": {},
   "outputs": [
    {
     "name": "stdout",
     "output_type": "stream",
     "text": [
      "0\n",
      "1\n",
      "2\n",
      "3\n",
      "4\n",
      "5\n",
      "6\n",
      "7\n",
      "8\n",
      "9\n"
     ]
    }
   ],
   "source": [
    "for i in range(10):\n",
    "    exec(f\"def f_{i}(): print({i})\")\n",
    "for i in range(10):\n",
    "    exec(f\"f_{i}()\")"
   ]
  },
  {
   "cell_type": "code",
   "execution_count": null,
   "metadata": {},
   "outputs": [],
   "source": []
  }
 ],
 "metadata": {
  "kernelspec": {
   "display_name": "Python 3",
   "language": "python",
   "name": "python3"
  },
  "language_info": {
   "codemirror_mode": {
    "name": "ipython",
    "version": 3
   },
   "file_extension": ".py",
   "mimetype": "text/x-python",
   "name": "python",
   "nbconvert_exporter": "python",
   "pygments_lexer": "ipython3",
   "version": "3.7.6"
  }
 },
 "nbformat": 4,
 "nbformat_minor": 4
}
