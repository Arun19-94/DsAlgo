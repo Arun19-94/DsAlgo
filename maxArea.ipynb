{
 "cells": [
  {
   "cell_type": "code",
   "execution_count": 24,
   "metadata": {},
   "outputs": [
    {
     "name": "stdout",
     "output_type": "stream",
     "text": [
      "8\n",
      "1\n",
      "------------------\n",
      "7\n",
      "7\n",
      "------------------\n",
      "6\n",
      "3\n",
      "------------------\n",
      "5\n",
      "8\n",
      "------------------\n",
      "4\n",
      "6\n",
      "------------------\n",
      "3\n",
      "2\n",
      "------------------\n",
      "2\n",
      "5\n",
      "------------------\n",
      "1\n",
      "4\n",
      "------------------\n",
      "49\n"
     ]
    }
   ],
   "source": [
    "nums1 = [2,3]\n",
    "height = [1,8,6,2,5,4,8,3,7]\n",
    "max_area = 0\n",
    "left = 0\n",
    "right = len(height) -1\n",
    "h = 0\n",
    "while(left < right):\n",
    "    total_length = right - left\n",
    "    if height[right] >= height[left]:\n",
    "        h = height[left]\n",
    "        left +=1\n",
    "    else:\n",
    "        h = height[right]\n",
    "        right -=1\n",
    "    max_area = max(max_area, (h*total_length))\n",
    "\n",
    "return (max_area)\n",
    "# for i in range(0,len(height)):\n",
    "#     print(height[i])\n",
    "#     for j in range(i+1, len(height)):\n",
    "#         print((j-i +1))\n",
    "#         max_area = max (max_area, min(height[i], height[j]) * (j-i))\n",
    "# print(max_area)\n",
    "         "
   ]
  },
  {
   "cell_type": "code",
   "execution_count": null,
   "metadata": {},
   "outputs": [],
   "source": []
  }
 ],
 "metadata": {
  "kernelspec": {
   "display_name": "Python 3",
   "language": "python",
   "name": "python3"
  },
  "language_info": {
   "codemirror_mode": {
    "name": "ipython",
    "version": 3
   },
   "file_extension": ".py",
   "mimetype": "text/x-python",
   "name": "python",
   "nbconvert_exporter": "python",
   "pygments_lexer": "ipython3",
   "version": "3.7.6"
  }
 },
 "nbformat": 4,
 "nbformat_minor": 4
}
