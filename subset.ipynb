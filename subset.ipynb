{
 "cells": [
  {
   "cell_type": "code",
   "execution_count": 3,
   "metadata": {},
   "outputs": [
    {
     "name": "stdout",
     "output_type": "stream",
     "text": [
      "2\n",
      "[None, None]\n",
      "[None, '2']\n",
      "------\n",
      "['1', None]\n",
      "['1', '2']\n",
      "------\n",
      "------\n"
     ]
    }
   ],
   "source": [
    "def helper(given_array, subset,i):\n",
    "    if(i == len(given_array) ):\n",
    "        print(subset)\n",
    "    else:\n",
    "        subset[i] = None\n",
    "        helper(given_array, subset,i+1)\n",
    "        \n",
    "        subset[i] = given_array[i]\n",
    "        helper(given_array, subset,i+1)\n",
    "        print(\"------\")\n",
    "        \n",
    "def myLogic(active, rest,a):\n",
    "    if(active == \"\" and len(rest) == 0 ):\n",
    "        return\n",
    "    elif(len(rest) == 0):\n",
    "        print(active)\n",
    "        a.append(active)\n",
    "    else:\n",
    "        print(\"-----------\")\n",
    "        print(active)\n",
    "        print(rest)\n",
    "        myLogic(active+rest[0],rest[1:],a)\n",
    "        print(\"===========\")\n",
    "        print(active)\n",
    "        print(rest)\n",
    "        myLogic(active,rest[1:],a)\n",
    "    return a\n",
    "def allSubset(given_array):\n",
    "    subset = [None] * len(given_array)\n",
    "    print(len(subset))\n",
    "    helper(given_array, subset,0)\n",
    "        \n",
    "allSubset([\"1\",\"2\"])\n",
    "# myLogic(\"\",\"abc\",[])"
   ]
  }
 ],
 "metadata": {
  "kernelspec": {
   "display_name": "Python 3",
   "language": "python",
   "name": "python3"
  },
  "language_info": {
   "codemirror_mode": {
    "name": "ipython",
    "version": 3
   },
   "file_extension": ".py",
   "mimetype": "text/x-python",
   "name": "python",
   "nbconvert_exporter": "python",
   "pygments_lexer": "ipython3",
   "version": "3.7.6"
  }
 },
 "nbformat": 4,
 "nbformat_minor": 4
}
