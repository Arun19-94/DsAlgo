{
 "cells": [
  {
   "cell_type": "code",
   "execution_count": 2,
   "metadata": {},
   "outputs": [
    {
     "name": "stdout",
     "output_type": "stream",
     "text": [
      "1\n",
      "3\n",
      "6\n",
      "3\n"
     ]
    }
   ],
   "source": [
    "def reachTarget(target) :\n",
    " \n",
    "    # Handling negatives by symmetry\n",
    "    target = abs(target)\n",
    "     \n",
    "    # Keep moving while sum is\n",
    "    # smaller or difference is odd.\n",
    "    sum = 0\n",
    "    step = 0\n",
    "    while (sum < target or (sum - target) %\n",
    "                                  2 != 0) :\n",
    "        step = step + 1\n",
    "        sum = sum + step\n",
    "        print(sum)\n",
    "    return step\n",
    "     \n",
    " \n",
    "# Driver code\n",
    "target = 4\n",
    "print(reachTarget(target))"
   ]
  },
  {
   "cell_type": "markdown",
   "metadata": {},
   "source": [
    "On the ith jump, you may move exactly i places to the left or right.\n",
    "\n",
    "Find a path with the fewest number of jumps required to get from 0 to N."
   ]
  }
 ],
 "metadata": {
  "kernelspec": {
   "display_name": "Python 3",
   "language": "python",
   "name": "python3"
  },
  "language_info": {
   "codemirror_mode": {
    "name": "ipython",
    "version": 3
   },
   "file_extension": ".py",
   "mimetype": "text/x-python",
   "name": "python",
   "nbconvert_exporter": "python",
   "pygments_lexer": "ipython3",
   "version": "3.7.6"
  }
 },
 "nbformat": 4,
 "nbformat_minor": 4
}
