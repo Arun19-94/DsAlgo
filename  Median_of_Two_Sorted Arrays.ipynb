{
 "cells": [
  {
   "cell_type": "code",
   "execution_count": 52,
   "metadata": {},
   "outputs": [
    {
     "name": "stdout",
     "output_type": "stream",
     "text": [
      "1\n",
      "0\n",
      "0\n",
      "0\n",
      "------------------\n",
      "0\n",
      "1\n",
      "1\n",
      "------------------\n"
     ]
    },
    {
     "ename": "IndexError",
     "evalue": "list index out of range",
     "output_type": "error",
     "traceback": [
      "\u001b[1;31m---------------------------------------------------------------------------\u001b[0m",
      "\u001b[1;31mIndexError\u001b[0m                                Traceback (most recent call last)",
      "\u001b[1;32m<ipython-input-52-b832c4ae1e42>\u001b[0m in \u001b[0;36m<module>\u001b[1;34m\u001b[0m\n\u001b[0;32m     55\u001b[0m             \u001b[0mk\u001b[0m \u001b[1;33m=\u001b[0m \u001b[0mk\u001b[0m \u001b[1;33m+\u001b[0m\u001b[1;36m1\u001b[0m\u001b[1;33m\u001b[0m\u001b[1;33m\u001b[0m\u001b[0m\n\u001b[0;32m     56\u001b[0m         \u001b[1;32mreturn\u001b[0m \u001b[0mresult\u001b[0m\u001b[1;33m\u001b[0m\u001b[1;33m\u001b[0m\u001b[0m\n\u001b[1;32m---> 57\u001b[1;33m \u001b[0mmedian\u001b[0m\u001b[1;33m(\u001b[0m\u001b[1;33m)\u001b[0m\u001b[1;33m\u001b[0m\u001b[1;33m\u001b[0m\u001b[0m\n\u001b[0m",
      "\u001b[1;32m<ipython-input-52-b832c4ae1e42>\u001b[0m in \u001b[0;36mmedian\u001b[1;34m()\u001b[0m\n\u001b[0;32m     37\u001b[0m             \u001b[0mprint\u001b[0m\u001b[1;33m(\u001b[0m\u001b[0mk\u001b[0m\u001b[1;33m)\u001b[0m\u001b[1;33m\u001b[0m\u001b[1;33m\u001b[0m\u001b[0m\n\u001b[0;32m     38\u001b[0m             \u001b[0mprint\u001b[0m\u001b[1;33m(\u001b[0m\u001b[1;34m\"------------------\"\u001b[0m\u001b[1;33m)\u001b[0m\u001b[1;33m\u001b[0m\u001b[1;33m\u001b[0m\u001b[0m\n\u001b[1;32m---> 39\u001b[1;33m             \u001b[1;32mif\u001b[0m \u001b[1;33m(\u001b[0m\u001b[0mi\u001b[0m \u001b[1;33m<\u001b[0m \u001b[0mlen\u001b[0m\u001b[1;33m(\u001b[0m\u001b[0mnums1\u001b[0m\u001b[1;33m)\u001b[0m \u001b[1;32mand\u001b[0m \u001b[0mnums1\u001b[0m\u001b[1;33m[\u001b[0m\u001b[0mi\u001b[0m\u001b[1;33m]\u001b[0m \u001b[1;33m<=\u001b[0m \u001b[0mnums2\u001b[0m\u001b[1;33m[\u001b[0m\u001b[0mj\u001b[0m\u001b[1;33m]\u001b[0m \u001b[1;33m)\u001b[0m\u001b[1;33m:\u001b[0m\u001b[1;33m\u001b[0m\u001b[1;33m\u001b[0m\u001b[0m\n\u001b[0m\u001b[0;32m     40\u001b[0m                 \u001b[0misFirst\u001b[0m \u001b[1;33m=\u001b[0m \u001b[0mnums1\u001b[0m\u001b[1;33m[\u001b[0m\u001b[0mi\u001b[0m\u001b[1;33m]\u001b[0m\u001b[1;33m\u001b[0m\u001b[1;33m\u001b[0m\u001b[0m\n\u001b[0;32m     41\u001b[0m                 \u001b[0mi\u001b[0m \u001b[1;33m=\u001b[0m \u001b[0mi\u001b[0m \u001b[1;33m+\u001b[0m \u001b[1;36m1\u001b[0m\u001b[1;33m\u001b[0m\u001b[1;33m\u001b[0m\u001b[0m\n",
      "\u001b[1;31mIndexError\u001b[0m: list index out of range"
     ]
    }
   ],
   "source": [
    "\n",
    "def median():\n",
    "        nums1 = [2,3]\n",
    "        nums2 = [1]\n",
    "        isLoop = True\n",
    "        if (len(nums1) < len(nums2)):\n",
    "            temp = nums1\n",
    "            nums1 = nums2\n",
    "            nums2 = temp\n",
    "        total_len = len(nums1) + len(nums2)\n",
    "        isEven = True if total_len % 2 == 0 else False\n",
    "        position = total_len//2\n",
    "        print(position)\n",
    "        result = 0\n",
    "       \n",
    "        if( len(nums1) == 0 and len(nums2) == 0 ):\n",
    "            return 0.0\n",
    "        elif(len(nums2) == 0):\n",
    "            if (isEven == True):\n",
    "                 result = (nums1[position-1] + nums1[position])/2\n",
    "            else:\n",
    "                result = nums1[position]/1\n",
    "            return result\n",
    "        elif(len(nums1) == 0):\n",
    "            if (isEven == True):\n",
    "                result = (nums2[position-1] + nums2[position])/2\n",
    "            else:\n",
    "                result = nums2[position]/1\n",
    "            return result\n",
    "        isresult_ready = False\n",
    "        i = 0\n",
    "        j = 0\n",
    "        k = 0\n",
    "        isFirst = 0\n",
    "        while(isLoop):\n",
    "            print(i)\n",
    "            print(j)\n",
    "            print(k)\n",
    "            print(\"------------------\")\n",
    "            if (i < len(nums1) and nums1[i] <= nums2[j] ):\n",
    "                isFirst = nums1[i]\n",
    "                i = i + 1\n",
    "            elif(j < len(nums2)):\n",
    "                isFirst = nums2[j]\n",
    "                j = j + 1\n",
    "            \n",
    "            if (position == k and isEven == False ):\n",
    "                print(isFirst)\n",
    "                result = isFirst/1\n",
    "                isLoop = False\n",
    "            elif(position <= k+1 and isEven == True):\n",
    "                if (isresult_ready == True):\n",
    "                    isLoop = False\n",
    "                isresult_ready = True\n",
    "                result = result + isFirst/2\n",
    "            k = k +1\n",
    "        return result\n",
    "median()         "
   ]
  },
  {
   "cell_type": "code",
   "execution_count": 39,
   "metadata": {},
   "outputs": [],
   "source": []
  },
  {
   "cell_type": "code",
   "execution_count": null,
   "metadata": {},
   "outputs": [],
   "source": []
  },
  {
   "cell_type": "code",
   "execution_count": null,
   "metadata": {},
   "outputs": [],
   "source": []
  }
 ],
 "metadata": {
  "kernelspec": {
   "display_name": "Python 3",
   "language": "python",
   "name": "python3"
  },
  "language_info": {
   "codemirror_mode": {
    "name": "ipython",
    "version": 3
   },
   "file_extension": ".py",
   "mimetype": "text/x-python",
   "name": "python",
   "nbconvert_exporter": "python",
   "pygments_lexer": "ipython3",
   "version": "3.7.6"
  }
 },
 "nbformat": 4,
 "nbformat_minor": 4
}
