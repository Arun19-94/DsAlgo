{
 "cells": [
  {
   "cell_type": "code",
   "execution_count": 11,
   "metadata": {},
   "outputs": [
    {
     "name": "stdout",
     "output_type": "stream",
     "text": [
      "result-----\n"
     ]
    }
   ],
   "source": [
    "zigzag = [\n",
    "    [1, 3, 4, 10],\n",
    "    [2, 5, 9, 11],\n",
    "    [6, 8, 12, 15],\n",
    "    [7, 13, 14, 19]\n",
    "]\n",
    "print(\"result-----\")\n",
    "# direction = True\n",
    "# j = 0\n",
    "# k = 0\n",
    "# result = zigzag[0][0]\n",
    "# while(j != 2 and k != 3):\n",
    "#     if direction == True:\n",
    "#         if j != 0:\n",
    "#             j = j + 1\n",
    "#         if j == len(zigzag):\n",
    "#             j = j - 1\n",
    "#         if k > 0:\n",
    "#             k = k-1\n",
    "#         if k == 0:\n",
    "#             k = 1\n",
    "        \n",
    "#         result = result+zigzag[j][k] \n",
    "# print(\"result-----\")\n",
    "# print(result)\n",
    "\n",
    "        \n",
    "        \n",
    "    "
   ]
  },
  {
   "cell_type": "code",
   "execution_count": null,
   "metadata": {},
   "outputs": [],
   "source": []
  },
  {
   "cell_type": "code",
   "execution_count": null,
   "metadata": {},
   "outputs": [],
   "source": []
  }
 ],
 "metadata": {
  "kernelspec": {
   "display_name": "Python 3",
   "language": "python",
   "name": "python3"
  },
  "language_info": {
   "codemirror_mode": {
    "name": "ipython",
    "version": 3
   },
   "file_extension": ".py",
   "mimetype": "text/x-python",
   "name": "python",
   "nbconvert_exporter": "python",
   "pygments_lexer": "ipython3",
   "version": "3.7.6"
  }
 },
 "nbformat": 4,
 "nbformat_minor": 4
}
